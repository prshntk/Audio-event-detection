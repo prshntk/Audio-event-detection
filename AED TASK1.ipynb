{
  "nbformat": 4,
  "nbformat_minor": 0,
  "metadata": {
    "accelerator": "GPU",
    "colab": {
      "name": "utils.ipynb",
      "provenance": [],
      "collapsed_sections": []
    },
    "kernelspec": {
      "display_name": "Python 3",
      "language": "python",
      "name": "python3"
    },
    "language_info": {
      "codemirror_mode": {
        "name": "ipython",
        "version": 3
      },
      "file_extension": ".py",
      "mimetype": "text/x-python",
      "name": "python",
      "nbconvert_exporter": "python",
      "pygments_lexer": "ipython3",
      "version": "3.6.8"
    }
  },
  "cells": [
    {
      "cell_type": "code",
      "metadata": {
        "id": "objdZvwo6lu_"
      },
      "source": [
        "import librosa\n",
        "import numpy as np\n",
        "import matplotlib.pyplot as plt\n"
      ],
      "execution_count": 6,
      "outputs": []
    },
    {
      "cell_type": "code",
      "metadata": {
        "id": "Zzpaqu4j6lu_"
      },
      "source": [
        "def wav2feat(wavfile):\n",
        "    '''                       \n",
        "    Input: audio wav file name\n",
        "    Output: Magnitude spectrogram\n",
        "    '''                                                \n",
        "    x, Fs = librosa.load(wavfile, sr=44100, mono=True) \n",
        "\n",
        "    hop = int(0.01 * Fs) # 10ms\n",
        "    win = int(0.02 * Fs) # 20ms\n",
        "    X = librosa.stft(x, n_fft=1024, hop_length=hop, win_length=win, window='hann', center=True, pad_mode='reflect')\n",
        "    return np.abs(X)\n",
        "    "
      ],
      "execution_count": 7,
      "outputs": []
    },
    {
      "cell_type": "code",
      "metadata": {
        "id": "NyvZgm_vIx_S"
      },
      "source": [
        "!pip install noisereduce\n",
        "import noisereduce as nr\n",
        "\n",
        "x,Fx = librosa.load('/content/102104-3-0-0.wav', sr=44100, mono=True)\n",
        "noisy_part = x[0:25000]\n",
        "reduced_noise = nr.reduce_noise(audio_clip=x, noise_clip=noisy_part, verbose=False)\n",
        "print(\"Original audio file:\")\n",
        "plt.plot(x)\n",
        "print(\"Noise removed audio file:\")\n",
        "plt.plot(reduced_noise)\n",
        "librosa.output.write_wav('/content/101.wav', reduced_noise, sr = 44100, norm=False)"
      ],
      "execution_count": null,
      "outputs": []
    },
    {
      "cell_type": "code",
      "metadata": {
        "colab": {
          "base_uri": "https://localhost:8080/"
        },
        "id": "b0WKmxC769no",
        "outputId": "58d32053-542a-4906-87d7-1013e51ce31f"
      },
      "source": [
        "from google.colab import drive\n",
        "drive.mount('/content/drive')"
      ],
      "execution_count": 4,
      "outputs": [
        {
          "output_type": "stream",
          "text": [
            "Mounted at /content/drive\n"
          ],
          "name": "stdout"
        }
      ]
    },
    {
      "cell_type": "code",
      "metadata": {
        "id": "2xboGcxo5E4M"
      },
      "source": [
        ""
      ],
      "execution_count": null,
      "outputs": []
    },
    {
      "cell_type": "code",
      "metadata": {
        "id": "4rK6yJ1HDam3",
        "outputId": "fe8cacd5-968c-4c45-da25-17ddf75a55b0",
        "colab": {
          "base_uri": "https://localhost:8080/",
          "height": 214
        }
      },
      "source": [
        "import matplotlib.pyplot as plot\n",
        "from scipy.io import wavfile\n",
        "\n",
        "samplingFrequency, signalData = wavfile.read(\"/content/drive/MyDrive/audio_train_1ch/105415-2-0-15.wav\")\n",
        "feature = wav2feat(\"/content/drive/MyDrive/audio_train_1ch/105415-2-0-15.wav\")\n",
        "print(feature.shape)\n"
      ],
      "execution_count": 10,
      "outputs": [
        {
          "output_type": "stream",
          "text": [
            "(513, 401)\n"
          ],
          "name": "stdout"
        },
        {
          "output_type": "error",
          "ename": "IndexError",
          "evalue": "ignored",
          "traceback": [
            "\u001b[0;31m---------------------------------------------------------------------------\u001b[0m",
            "\u001b[0;31mIndexError\u001b[0m                                Traceback (most recent call last)",
            "\u001b[0;32m<ipython-input-10-9b837f1e222c>\u001b[0m in \u001b[0;36m<module>\u001b[0;34m()\u001b[0m\n\u001b[1;32m      5\u001b[0m \u001b[0mfeature\u001b[0m \u001b[0;34m=\u001b[0m \u001b[0mwav2feat\u001b[0m\u001b[0;34m(\u001b[0m\u001b[0;34m\"/content/drive/MyDrive/audio_train_1ch/105415-2-0-15.wav\"\u001b[0m\u001b[0;34m)\u001b[0m\u001b[0;34m\u001b[0m\u001b[0;34m\u001b[0m\u001b[0m\n\u001b[1;32m      6\u001b[0m \u001b[0mprint\u001b[0m\u001b[0;34m(\u001b[0m\u001b[0mfeature\u001b[0m\u001b[0;34m.\u001b[0m\u001b[0mshape\u001b[0m\u001b[0;34m)\u001b[0m\u001b[0;34m\u001b[0m\u001b[0;34m\u001b[0m\u001b[0m\n\u001b[0;32m----> 7\u001b[0;31m \u001b[0mplt\u001b[0m\u001b[0;34m.\u001b[0m\u001b[0mspecgram\u001b[0m\u001b[0;34m(\u001b[0m\u001b[0msignalData\u001b[0m\u001b[0;34m[\u001b[0m\u001b[0;34m:\u001b[0m\u001b[0;34m,\u001b[0m\u001b[0;36m0\u001b[0m\u001b[0;34m]\u001b[0m\u001b[0;34m,\u001b[0m\u001b[0mFs\u001b[0m\u001b[0;34m=\u001b[0m\u001b[0msamplingFrequency\u001b[0m\u001b[0;34m)\u001b[0m\u001b[0;34m\u001b[0m\u001b[0;34m\u001b[0m\u001b[0m\n\u001b[0m",
            "\u001b[0;31mIndexError\u001b[0m: too many indices for array"
          ]
        }
      ]
    },
    {
      "cell_type": "code",
      "metadata": {
        "colab": {
          "base_uri": "https://localhost:8080/",
          "height": 402
        },
        "id": "fsX2LEC9Q_bl",
        "outputId": "2ba4dedd-6c35-429f-c8da-dd5f7585329f"
      },
      "source": [
        "import pandas as pd\n",
        "from sklearn.preprocessing import LabelEncoder\n",
        "y = pd.read_csv(\"/content/drive/MyDrive/labels_train.csv\")\n",
        "# creating initial dataframe\n",
        "sound_types = y['class'].to_list()\n",
        "sound_df = pd.DataFrame(sound_types, columns=['Sound_Types'])\n",
        "# creating instance of labelencoder\n",
        "labelencoder = LabelEncoder()\n",
        "# Assigning numerical values and storing in another column\n",
        "sound_df['Sound_Types_Cat'] = labelencoder.fit_transform(sound_df['Sound_Types'])\n",
        "sound_df"
      ],
      "execution_count": null,
      "outputs": [
        {
          "output_type": "execute_result",
          "data": {
            "text/html": [
              "<div>\n",
              "<style scoped>\n",
              "    .dataframe tbody tr th:only-of-type {\n",
              "        vertical-align: middle;\n",
              "    }\n",
              "\n",
              "    .dataframe tbody tr th {\n",
              "        vertical-align: top;\n",
              "    }\n",
              "\n",
              "    .dataframe thead th {\n",
              "        text-align: right;\n",
              "    }\n",
              "</style>\n",
              "<table border=\"1\" class=\"dataframe\">\n",
              "  <thead>\n",
              "    <tr style=\"text-align: right;\">\n",
              "      <th></th>\n",
              "      <th>Sound_Types</th>\n",
              "      <th>Sound_Types_Cat</th>\n",
              "    </tr>\n",
              "  </thead>\n",
              "  <tbody>\n",
              "    <tr>\n",
              "      <th>0</th>\n",
              "      <td>dog_bark</td>\n",
              "      <td>3</td>\n",
              "    </tr>\n",
              "    <tr>\n",
              "      <th>1</th>\n",
              "      <td>dog_bark</td>\n",
              "      <td>3</td>\n",
              "    </tr>\n",
              "    <tr>\n",
              "      <th>2</th>\n",
              "      <td>dog_bark</td>\n",
              "      <td>3</td>\n",
              "    </tr>\n",
              "    <tr>\n",
              "      <th>3</th>\n",
              "      <td>dog_bark</td>\n",
              "      <td>3</td>\n",
              "    </tr>\n",
              "    <tr>\n",
              "      <th>4</th>\n",
              "      <td>dog_bark</td>\n",
              "      <td>3</td>\n",
              "    </tr>\n",
              "    <tr>\n",
              "      <th>...</th>\n",
              "      <td>...</td>\n",
              "      <td>...</td>\n",
              "    </tr>\n",
              "    <tr>\n",
              "      <th>1756</th>\n",
              "      <td>street_music</td>\n",
              "      <td>9</td>\n",
              "    </tr>\n",
              "    <tr>\n",
              "      <th>1757</th>\n",
              "      <td>street_music</td>\n",
              "      <td>9</td>\n",
              "    </tr>\n",
              "    <tr>\n",
              "      <th>1758</th>\n",
              "      <td>street_music</td>\n",
              "      <td>9</td>\n",
              "    </tr>\n",
              "    <tr>\n",
              "      <th>1759</th>\n",
              "      <td>street_music</td>\n",
              "      <td>9</td>\n",
              "    </tr>\n",
              "    <tr>\n",
              "      <th>1760</th>\n",
              "      <td>street_music</td>\n",
              "      <td>9</td>\n",
              "    </tr>\n",
              "  </tbody>\n",
              "</table>\n",
              "<p>1761 rows × 2 columns</p>\n",
              "</div>"
            ],
            "text/plain": [
              "       Sound_Types  Sound_Types_Cat\n",
              "0         dog_bark                3\n",
              "1         dog_bark                3\n",
              "2         dog_bark                3\n",
              "3         dog_bark                3\n",
              "4         dog_bark                3\n",
              "...            ...              ...\n",
              "1756  street_music                9\n",
              "1757  street_music                9\n",
              "1758  street_music                9\n",
              "1759  street_music                9\n",
              "1760  street_music                9\n",
              "\n",
              "[1761 rows x 2 columns]"
            ]
          },
          "metadata": {
            "tags": []
          },
          "execution_count": 10
        }
      ]
    },
    {
      "cell_type": "code",
      "metadata": {
        "id": "5cPeNAtiR3sA"
      },
      "source": [
        "from sklearn.preprocessing import OneHotEncoder\n",
        "encoding = OneHotEncoder()\n",
        "y = encoding.fit_transform(sound_df[['Sound_Types_Cat']]).toarray()"
      ],
      "execution_count": null,
      "outputs": []
    },
    {
      "cell_type": "code",
      "metadata": {
        "id": "uy5Y4T2zY1t1"
      },
      "source": [
        "def padding(X):\n",
        "  if X.shape[1]!=401:\n",
        "    pad = np.zeros((X.shape[0],401-X.shape[1]))\n",
        "    X = np.hstack((X,pad))\n",
        "  return X"
      ],
      "execution_count": null,
      "outputs": []
    },
    {
      "cell_type": "code",
      "metadata": {
        "colab": {
          "base_uri": "https://localhost:8080/"
        },
        "id": "pGatpMEZQ-ht",
        "outputId": "30b8d7cc-4be7-4509-bcd0-c2454df8f504"
      },
      "source": [
        "X_train = []\n",
        "N = sound_df['Sound_Types'].size\n",
        "for i in range(N):\n",
        "  file_ = y['slice_file_name'][i]\n",
        "  if i%100==0:\n",
        "    print('Done '+str(i*100/N))\n",
        "  X_train.append(padding(wav2feat('/content/drive/MyDrive/audio_train_1ch/'+file_)))\n",
        "X_train = np.array(X_train)"
      ],
      "execution_count": null,
      "outputs": [
        {
          "output_type": "stream",
          "text": [
            "Done 0.0\n",
            "Done 5.6785917092561045\n",
            "Done 11.357183418512209\n",
            "Done 17.035775127768314\n",
            "Done 22.714366837024418\n",
            "Done 28.39295854628052\n",
            "Done 34.07155025553663\n",
            "Done 39.75014196479273\n",
            "Done 45.428733674048836\n",
            "Done 51.10732538330494\n",
            "Done 56.78591709256104\n",
            "Done 62.464508801817146\n",
            "Done 68.14310051107326\n",
            "Done 73.82169222032935\n",
            "Done 79.50028392958546\n",
            "Done 85.17887563884156\n",
            "Done 90.85746734809767\n",
            "Done 96.53605905735378\n"
          ],
          "name": "stdout"
        }
      ]
    },
    {
      "cell_type": "code",
      "metadata": {
        "id": "ozQXMIHGvmL3"
      },
      "source": [
        "np.save('/content/drive/MyDrive/Extracted/X.npy',X_train)\n",
        "np.save('/content/drive/MyDrive/Extracted/y.npy',y)"
      ],
      "execution_count": null,
      "outputs": []
    },
    {
      "cell_type": "code",
      "metadata": {
        "id": "HaTkl8eqv75H"
      },
      "source": [
        "X_train = np.load('/content/drive/MyDrive/Extracted/X.npy')\n",
        "y = np.load('/content/drive/MyDrive/Extracted/y.npy')"
      ],
      "execution_count": null,
      "outputs": []
    },
    {
      "cell_type": "code",
      "metadata": {
        "id": "C4emUzHmfjKr"
      },
      "source": [
        "from sklearn.model_selection import train_test_split\n",
        "X_train_, X_test, y_train, y_test = train_test_split(X_train, y, test_size=0.2, random_state=42)"
      ],
      "execution_count": null,
      "outputs": []
    },
    {
      "cell_type": "code",
      "metadata": {
        "id": "m5xvmkeXCU4D"
      },
      "source": [
        "from keras.layers import Conv2D, Input, Dense, MaxPool2D,BatchNormalization,Flatten,Activation,Dropout,GlobalMaxPool2D\n",
        "from keras.models import Model\n",
        "def classifierModel(input_shape):\n",
        "  X_input = Input(input_shape)\n",
        "  #conv layers\n",
        "  X = Conv2D(8,5,padding='same')(X_input)\n",
        "  X = BatchNormalization()(X) \n",
        "  X = Activation('relu')(X)\n",
        "  X = MaxPool2D((2,2))(X)\n",
        "\n",
        "  X = Conv2D(16,3,padding='same')(X)\n",
        "  X = BatchNormalization()(X)\n",
        "  X = Activation('relu')(X)\n",
        "  X = MaxPool2D((2,2))(X)\n",
        "  X = Dropout(0.5)(X)\n",
        "  \n",
        "  X = Flatten()(X)\n",
        "\n",
        "  X = Dense(64,activation = 'relu')(X)\n",
        "  X = Dense(32,activation = 'relu')(X)\n",
        "  \n",
        "  \n",
        "  #Softmax Layer\n",
        "  out = Dense(10,activation='softmax')(X)\n",
        "  model = Model(inputs=X_input,outputs=out,name='Model')\n",
        "  return model\n",
        "model = classifierModel((513,401,1))\n",
        "model.compile(optimizer='adam',\n",
        "              loss='categorical_crossentropy', # Loss\n",
        "              metrics=['accuracy'])"
      ],
      "execution_count": null,
      "outputs": []
    },
    {
      "cell_type": "code",
      "metadata": {
        "id": "ShA5SS3SDoy1"
      },
      "source": [
        "X_train_ = X_train_.reshape((X_train_.shape[0],513,401,1))\n",
        "X_test = X_test.reshape(X_test.shape[0],513,401,1)\n",
        "history = model.fit(X_train_,y_train,epochs=16,batch_size=64,validation_data=(X_test,y_test),shuffle=True)\n",
        "model.save('model.h5')"
      ],
      "execution_count": null,
      "outputs": []
    },
    {
      "cell_type": "code",
      "metadata": {
        "id": "x-dECOyupEEA"
      },
      "source": [
        "model.summary()"
      ],
      "execution_count": null,
      "outputs": []
    },
    {
      "cell_type": "code",
      "metadata": {
        "id": "AXlUAnHJmibH"
      },
      "source": [
        "from sklearn import  svm\n",
        "X_train_svm = np.mean(X_train_,axis = 2)\n",
        "X_train_svm = X_train_svm.reshape((X_train_.shape[0],513))\n",
        "y_hat = np.argmax(y_train,axis=1)\n",
        "clf = svm.LinearSVC(C=10,dual = False,max_iter = 30000)\n",
        "clf.fit(X_train_svm,y_hat)\n"
      ],
      "execution_count": null,
      "outputs": []
    },
    {
      "cell_type": "code",
      "metadata": {
        "id": "DTsYZ_mWkmRd"
      },
      "source": [
        "X_test_svm = np.mean(X_test,axis = 2)\n",
        "X_test_svm = X_test_svm.reshape((X_test.shape[0],513))\n",
        "y_true = np.argmax(y_test,axis = -1)\n",
        "print(clf.score(X_test_svm,y_true))"
      ],
      "execution_count": null,
      "outputs": []
    },
    {
      "cell_type": "code",
      "metadata": {
        "id": "iMFwVT7Hsz3X"
      },
      "source": [
        "ans = np.argmax(model.predict(X_test),axis=-1)\n",
        "y_test_ = np.argmax(y_test,axis=1)"
      ],
      "execution_count": null,
      "outputs": []
    },
    {
      "cell_type": "code",
      "metadata": {
        "colab": {
          "base_uri": "https://localhost:8080/"
        },
        "id": "vPp8nW0duvya",
        "outputId": "94d17c31-859a-460b-d204-2fb764ae281d"
      },
      "source": [
        "res=0\n",
        "for i in range(len(y_test)):\n",
        "  if y_test_[i]==ans[i]:\n",
        "    res+=1\n",
        "print(res/len(ans))"
      ],
      "execution_count": null,
      "outputs": [
        {
          "output_type": "stream",
          "text": [
            "0.7648725212464589\n"
          ],
          "name": "stdout"
        }
      ]
    },
    {
      "cell_type": "code",
      "metadata": {
        "colab": {
          "base_uri": "https://localhost:8080/"
        },
        "id": "8mYq6eHI7VOV",
        "outputId": "6fe68d24-91f0-4bf0-cc0e-90a9dcc19699"
      },
      "source": [
        "for key in history.history.keys():\n",
        "  print(key)\n"
      ],
      "execution_count": null,
      "outputs": [
        {
          "output_type": "stream",
          "text": [
            "loss\n",
            "accuracy\n",
            "val_loss\n",
            "val_accuracy\n"
          ],
          "name": "stdout"
        }
      ]
    },
    {
      "cell_type": "code",
      "metadata": {
        "colab": {
          "base_uri": "https://localhost:8080/",
          "height": 295
        },
        "id": "AKqbOwZSbqGz",
        "outputId": "1448cffb-6860-49e1-cd33-b3a0da28c5ed"
      },
      "source": [
        "import matplotlib.pyplot as plt\n",
        "\n",
        "plt.plot(history.history['accuracy'],'r')\n",
        "plt.plot(history.history['val_accuracy'],'b')\n",
        "plt.title('model accuracy')\n",
        "plt.ylabel('accuracy')\n",
        "plt.xlabel('epoch')\n",
        "plt.legend(['train', 'val'], loc='upper left')\n",
        "plt.savefig('model_accuracy.png')\n",
        "plt.show()"
      ],
      "execution_count": null,
      "outputs": [
        {
          "output_type": "display_data",
          "data": {
            "image/png": "[encoded data removed]",
            "text/plain": [
              "<Figure size 432x288 with 1 Axes>"
            ]
          },
          "metadata": {
            "tags": []
          }
        }
      ]
    },
    {
      "cell_type": "code",
      "metadata": {
        "colab": {
          "base_uri": "https://localhost:8080/"
        },
        "id": "D4Q53kkcTNOV",
        "outputId": "aa9bf212-9856-4071-ee74-37d8e8c5e92d"
      },
      "source": [
        "from sklearn.ensemble import RandomForestClassifier\n",
        "forest = RandomForestClassifier(max_depth = 20)\n",
        "forest.fit(X_train_svm,np.argmax(y_train,axis = -1))"
      ],
      "execution_count": null,
      "outputs": [
        {
          "output_type": "execute_result",
          "data": {
            "text/plain": [
              "RandomForestClassifier(bootstrap=True, ccp_alpha=0.0, class_weight=None,\n",
              "                       criterion='gini', max_depth=20, max_features='auto',\n",
              "                       max_leaf_nodes=None, max_samples=None,\n",
              "                       min_impurity_decrease=0.0, min_impurity_split=None,\n",
              "                       min_samples_leaf=1, min_samples_split=2,\n",
              "                       min_weight_fraction_leaf=0.0, n_estimators=100,\n",
              "                       n_jobs=None, oob_score=False, random_state=None,\n",
              "                       verbose=0, warm_start=False)"
            ]
          },
          "metadata": {
            "tags": []
          },
          "execution_count": 7
        }
      ]
    },
    {
      "cell_type": "code",
      "metadata": {
        "colab": {
          "base_uri": "https://localhost:8080/"
        },
        "id": "ka1i15sMWUaO",
        "outputId": "dd65ff1d-7684-419f-ce6c-dd9c8b47d660"
      },
      "source": [
        "forest.score(X_test_svm,y_true)"
      ],
      "execution_count": null,
      "outputs": [
        {
          "output_type": "execute_result",
          "data": {
            "text/plain": [
              "0.9235127478753541"
            ]
          },
          "metadata": {
            "tags": []
          },
          "execution_count": 8
        }
      ]
    },
    {
      "cell_type": "code",
      "metadata": {
        "colab": {
          "base_uri": "https://localhost:8080/",
          "height": 721
        },
        "id": "ZYQ4yBoIW7tt",
        "outputId": "12d6bbdb-cb57-4fc7-85f7-b24237528e08"
      },
      "source": [
        "import seaborn as sns\n",
        "from sklearn.metrics import confusion_matrix\n",
        "plt.figure(figsize=(12,12))\n",
        "cf_matrix = confusion_matrix(forest.predict(X_test_svm),y_true)\n",
        "sns.heatmap(cf_matrix/np.sum(cf_matrix,axis =0),cmap = 'Blues',annot = True,fmt = '.2%')"
      ],
      "execution_count": null,
      "outputs": [
        {
          "output_type": "execute_result",
          "data": {
            "text/plain": [
              "<matplotlib.axes._subplots.AxesSubplot at 0x7f26ac8a5048>"
            ]
          },
          "metadata": {
            "tags": []
          },
          "execution_count": 14
        },
        {
          "output_type": "display_data",
          "data": {
            "image/png": "[encoded data removed]",
            "text/plain": [
              "<Figure size 864x864 with 2 Axes>"
            ]
          },
          "metadata": {
            "tags": [],
            "needs_background": "light"
          }
        }
      ]
    },
    {
      "cell_type": "code",
      "metadata": {
        "id": "6H0E7mAOX3bi"
      },
      "source": [
        "import pickle\n",
        "\n",
        "pickle.dump(forest,open('Forest_classifier.sav','wb'))"
      ],
      "execution_count": null,
      "outputs": []
    },
    {
      "cell_type": "code",
      "metadata": {
        "colab": {
          "background_save": true
        },
        "id": "8ri1Nbm1ZURL"
      },
      "source": [
        "loaded_model = pickle.load(open('Forest_classifier.sav', 'rb'))\n",
        "result = loaded_model.score(X_test_svm, y_true)"
      ],
      "execution_count": null,
      "outputs": []
    }
  ]
}