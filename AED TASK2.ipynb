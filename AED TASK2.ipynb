{
  "nbformat": 4,
  "nbformat_minor": 0,
  "metadata": {
    "colab": {
      "name": "MLSP_Part2.ipynb",
      "provenance": [],
      "collapsed_sections": []
    },
    "kernelspec": {
      "name": "python3",
      "display_name": "Python 3"
    },
    "accelerator": "TPU"
  },
  "cells": [
    {
      "cell_type": "code",
      "metadata": {
        "id": "YG02YuOESS72"
      },
      "source": [
        "import numpy as np\r\n",
        "import pandas as pd\r\n",
        "import random\r\n",
        "import librosa\r\n",
        "import glob\r\n",
        "import os\r\n",
        "from Levenshtein import distance"
      ],
      "execution_count": null,
      "outputs": []
    },
    {
      "cell_type": "code",
      "metadata": {
        "colab": {
          "base_uri": "https://localhost:8080/"
        },
        "id": "zVuWXb3XjFZH",
        "outputId": "3a00c557-e0eb-42a5-da5b-8212a21a0243"
      },
      "source": [
        "pip install python-Levenshtein"
      ],
      "execution_count": null,
      "outputs": [
        {
          "output_type": "stream",
          "text": [
            "Collecting python-Levenshtein\n",
            "\u001b[?25l  Downloading https://files.pythonhosted.org/packages/42/a9/d1785c85ebf9b7dfacd08938dd028209c34a0ea3b1bcdb895208bd40a67d/python-Levenshtein-0.12.0.tar.gz (48kB)\n",
            "\r\u001b[K     |██████▊                         | 10kB 10.0MB/s eta 0:00:01\r\u001b[K     |█████████████▌                  | 20kB 15.0MB/s eta 0:00:01\r\u001b[K     |████████████████████▏           | 30kB 17.6MB/s eta 0:00:01\r\u001b[K     |███████████████████████████     | 40kB 11.0MB/s eta 0:00:01\r\u001b[K     |████████████████████████████████| 51kB 3.1MB/s \n",
            "\u001b[?25hRequirement already satisfied: setuptools in /usr/local/lib/python3.6/dist-packages (from python-Levenshtein) (50.3.2)\n",
            "Building wheels for collected packages: python-Levenshtein\n",
            "  Building wheel for python-Levenshtein (setup.py) ... \u001b[?25l\u001b[?25hdone\n",
            "  Created wheel for python-Levenshtein: filename=python_Levenshtein-0.12.0-cp36-cp36m-linux_x86_64.whl size=144809 sha256=f3df87ef1507f09385090c47a61089ac49e87c2c01fe1343763546385e588bdf\n",
            "  Stored in directory: /root/.cache/pip/wheels/de/c2/93/660fd5f7559049268ad2dc6d81c4e39e9e36518766eaf7e342\n",
            "Successfully built python-Levenshtein\n",
            "Installing collected packages: python-Levenshtein\n",
            "Successfully installed python-Levenshtein-0.12.0\n"
          ],
          "name": "stdout"
        }
      ]
    },
    {
      "cell_type": "code",
      "metadata": {
        "id": "M_PcXQklZq5q"
      },
      "source": [
        "def read_csv(filename):\r\n",
        "    id_label = {}\r\n",
        "    with open(filename,'r') as fid:\r\n",
        "        for line in fid: # '176787-5-0-27.wav,engine_idling\\n'\r\n",
        "            tokens = line.strip().split(',') # ['176787-5-0-27.wav', 'engine_idling']\r\n",
        "            id_label[tokens[0]] = tokens[1]\r\n",
        "    return id_label"
      ],
      "execution_count": null,
      "outputs": []
    },
    {
      "cell_type": "code",
      "metadata": {
        "id": "oi_q9zIpahsx"
      },
      "source": [
        "def wavs2feat(wavfiles):\r\n",
        "    '''\r\n",
        "    Concatenate the audio files listed in wavfiles\r\n",
        "    Input: list of audio wav file names\r\n",
        "    Output: Magnitude spectrogram of concatenated wav\r\n",
        "    '''\r\n",
        "    x = []\r\n",
        "    for wf in wavfiles:\r\n",
        "        x1, Fs = librosa.load(wf, sr=44100, mono=True)\r\n",
        "        x.append(x1)\r\n",
        "    x = np.hstack(x)\r\n",
        "    hop = int(0.01 * Fs) # 10ms\r\n",
        "    win = int(0.02 * Fs) # 20ms\r\n",
        "    X = librosa.stft(x, n_fft=1024, hop_length=hop, win_length=win, window='hann', center=True, pad_mode='reflect')\r\n",
        "    return np.abs(X)"
      ],
      "execution_count": null,
      "outputs": []
    },
    {
      "cell_type": "code",
      "metadata": {
        "id": "Xy-FRJNFgZTw"
      },
      "source": [
        "def evals(gtcsv, estcsv, taskid):\r\n",
        "    gt_id_label = read_csv(gtcsv)\r\n",
        "    est_id_label = read_csv(estcsv)\r\n",
        "    score = 0\r\n",
        "    for id in est_id_label:\r\n",
        "        if taskid==1:\r\n",
        "            if est_id_label[id] == gt_id_label[id]:\r\n",
        "                score += 1\r\n",
        "        elif taskid==2:\r\n",
        "            _, ss = editDistance(gt_id_label[id], est_id_label[id])\r\n",
        "            score += ss\r\n",
        "        else:\r\n",
        "            pdb.set_trace()\r\n",
        "            assert False, [\"taskid not correct; it is\", taskid]\r\n",
        "    avgScore = score/len(est_id_label)\r\n",
        "    return avgScore"
      ],
      "execution_count": null,
      "outputs": []
    },
    {
      "cell_type": "code",
      "metadata": {
        "id": "39ro6ckegc-O"
      },
      "source": [
        "def editDistance(gt, est):\r\n",
        "    '''both are lists of labels\r\n",
        "    E.g. gt is \"dog_bark-street_music-engine_idling\"\r\n",
        "    E.g. est is \"street_music-engine_idling\"\r\n",
        "    '''\r\n",
        "    gttokens = gt.split('-')\r\n",
        "    esttokens = est.split('-')\r\n",
        "    # Map token to char\r\n",
        "    tokenset = list(set(gttokens+esttokens)) # ['dog_bark', 'siren', 'street_music', 'engine_idling']\r\n",
        "    token_char = {}\r\n",
        "    for i in range(len(tokenset)):\r\n",
        "        token_char[tokenset[i]] = string.ascii_uppercase[i]  # {'dog_bark': 'A', 'siren': 'B', 'street_music': 'C', 'engine_idling': 'D'}\r\n",
        "    # convert gt and est to strings\r\n",
        "    gtstr = [token_char[t] for t in gttokens]\r\n",
        "    gtstr = ''.join(gtstr)  # 'BCA'\r\n",
        "    eststr = [token_char[t] for t in esttokens]\r\n",
        "    eststr = ''.join(eststr)  # \r\n",
        "    # Compare\r\n",
        "    editdist = distance(gtstr, eststr) # 1\r\n",
        "    score = 1 - editdist/len(gtstr)\r\n",
        "    return editdist, score"
      ],
      "execution_count": null,
      "outputs": []
    },
    {
      "cell_type": "code",
      "metadata": {
        "id": "0FyU4mcQf-o3"
      },
      "source": [
        "def padding(X):\r\n",
        "  if X.shape[1]!=2001:\r\n",
        "    pad = np.zeros((X.shape[0],2001-X.shape[1]))\r\n",
        "    X = np.hstack((X,pad))\r\n",
        "  return X"
      ],
      "execution_count": null,
      "outputs": []
    },
    {
      "cell_type": "code",
      "metadata": {
        "id": "wVf25Xf8T3VV"
      },
      "source": [
        "classes = ['air_conditioner','car_horn','children_playing','dog_bark','drilling','engine_idling','gun_shot','jackhammer','street_music','siren']\r\n",
        "labels = {}\r\n",
        "for i in range(10):\r\n",
        "  labels[classes[i]] = i"
      ],
      "execution_count": null,
      "outputs": []
    },
    {
      "cell_type": "code",
      "metadata": {
        "id": "SXZPRw6iTW03"
      },
      "source": [
        "def assign_files_labels(filenames,labels,audio_labels):\r\n",
        "  label_idx = []\r\n",
        "  l = len(filenames)\r\n",
        "  prev_id = -1\r\n",
        "  i = 0\r\n",
        "  j=0\r\n",
        "  while j<l:\r\n",
        "    id = labels[audio_labels[filenames[j]]]\r\n",
        "    if prev_id!=id:\r\n",
        "      id_one_hot = np.eye(10)[id]\r\n",
        "      label_idx.append(id_one_hot)\r\n",
        "      i+=1\r\n",
        "    prev_id = id\r\n",
        "    j+=1\r\n",
        "    \r\n",
        "  label_idx = np.array(label_idx)\r\n",
        "  while i<5:\r\n",
        "    i+=1\r\n",
        "    label_idx = np.vstack((label_idx,np.eye(10)[prev_id]))\r\n",
        "  return label_idx"
      ],
      "execution_count": null,
      "outputs": []
    },
    {
      "cell_type": "code",
      "metadata": {
        "id": "B5sgE6tnWrec"
      },
      "source": [
        "def read_files_from_the_folder(folderName):\r\n",
        "    files=glob.glob(folderName)\r\n",
        "    audio_files=[os.path.basename(file) for file in files]\r\n",
        "    files = np.array(files)\r\n",
        "    audio_files = np.array(audio_files)\r\n",
        "    return files,audio_files "
      ],
      "execution_count": null,
      "outputs": []
    },
    {
      "cell_type": "code",
      "metadata": {
        "id": "YEdCh1ZPWwj5"
      },
      "source": [
        "files,audio_files = read_files_from_the_folder('/content/drive/MyDrive/audio_train_1ch/*.wav')"
      ],
      "execution_count": null,
      "outputs": []
    },
    {
      "cell_type": "code",
      "metadata": {
        "id": "h5UTqps-ZDE-"
      },
      "source": [
        "audio_labels = read_csv('/content/drive/MyDrive/labels_train.csv')"
      ],
      "execution_count": null,
      "outputs": []
    },
    {
      "cell_type": "code",
      "metadata": {
        "colab": {
          "base_uri": "https://localhost:8080/"
        },
        "id": "HrFotxgvRqz9",
        "outputId": "dd69a070-edcf-490e-87b7-85410a694356"
      },
      "source": [
        "X,y = [],[]\r\n",
        "for i in range(2):\r\n",
        "  n = np.random.randint(2,6)\r\n",
        "  files_idx = np.random.randint(0,1761,n)\r\n",
        "  #print(files_idx)\r\n",
        "  if i%10==0:\r\n",
        "    print('Done '+ str(i))\r\n",
        "  wavfiles = files[files_idx]\r\n",
        "  filenames = audio_files[files_idx]\r\n",
        "  class_labels = assign_files_labels(filenames,labels,audio_labels)\r\n",
        "  x = wavs2feat(wavfiles)\r\n",
        "  x = padding(x)\r\n",
        "  X.append(x)\r\n",
        "  y.append(class_labels)\r\n",
        "X = np.array(X)\r\n",
        "y = np.array(y)"
      ],
      "execution_count": null,
      "outputs": [
        {
          "output_type": "stream",
          "text": [
            "Done 0\n"
          ],
          "name": "stdout"
        }
      ]
    },
    {
      "cell_type": "code",
      "metadata": {
        "id": "5HZFixHnLTTE"
      },
      "source": [
        "np.save('/content/drive/MyDrive/Extracted/X2.npy',X)\r\n",
        "np.save('/content/drive/MyDrive/Extracted/y2.npy',y)"
      ],
      "execution_count": null,
      "outputs": []
    },
    {
      "cell_type": "code",
      "metadata": {
        "id": "nIoPWIh8YYtu"
      },
      "source": [
        "X = np.load('/content/drive/MyDrive/Extracted/X2.npy')\r\n",
        "y = np.load('/content/drive/MyDrive/Extracted/y2.npy')"
      ],
      "execution_count": null,
      "outputs": []
    },
    {
      "cell_type": "code",
      "metadata": {
        "colab": {
          "base_uri": "https://localhost:8080/"
        },
        "id": "w-QiMlsQdgYB",
        "outputId": "f44ff542-aaf2-45c4-fa2e-425f033e89d2"
      },
      "source": [
        "print(X.shape,y.shape)"
      ],
      "execution_count": null,
      "outputs": [
        {
          "output_type": "stream",
          "text": [
            "(2, 513, 2001) (2, 5, 10)\n"
          ],
          "name": "stdout"
        }
      ]
    },
    {
      "cell_type": "code",
      "metadata": {
        "id": "yuokWj_QhFYL"
      },
      "source": [
        "from sklearn.model_selection import train_test_split\r\n",
        "X_train, X_test, y_train, y_test = train_test_split(X, y, test_size=0.2, random_state=42)"
      ],
      "execution_count": null,
      "outputs": []
    },
    {
      "cell_type": "code",
      "metadata": {
        "id": "zwIE-mRGhGHU"
      },
      "source": [
        "import keras as K\r\n",
        "from keras.layers import Conv2D, Input, Dense, MaxPool2D,BatchNormalization,Flatten,Activation,Dropout,GlobalMaxPool2D,GRU,Permute,Reshape,TimeDistributed\r\n",
        "from keras.models import Model\r\n",
        "def classifierModel(input_shape):\r\n",
        "  hidden_states = 32\r\n",
        "  X_input = Input(input_shape)\r\n",
        "  #conv layers\r\n",
        "  X = Conv2D(8,5,padding='same')(X_input)\r\n",
        "  X = BatchNormalization()(X) \r\n",
        "  X = Activation('relu')(X)\r\n",
        "  X = MaxPool2D((2,4))(X)\r\n",
        "\r\n",
        "  X = Conv2D(16,3,padding='same')(X)\r\n",
        "  X = BatchNormalization()(X)\r\n",
        "  X = Activation('relu')(X)\r\n",
        "  X = MaxPool2D((4,4))(X)\r\n",
        "  X = Dropout(0.5)(X)\r\n",
        "\r\n",
        "  X = Permute((1,3,2))(X)\r\n",
        "  X = K.backend.mean(X,axis = 1)\r\n",
        "  X = Reshape((5,-1))(X)\r\n",
        "  \r\n",
        "  X = GRU(units = 32,dropout=0.2, recurrent_dropout=0.2,return_sequences=True)(X)\r\n",
        "\r\n",
        "  X = TimeDistributed(Dense(units=32))(X)\r\n",
        "  X = TimeDistributed(Dense(units=10))(X)\r\n",
        "  out = Activation('softmax', name='Output_Activation')(X)\r\n",
        "  \r\n",
        "  model = Model(inputs=X_input,outputs=out,name='Model')\r\n",
        "  return model\r\n",
        "model = classifierModel((513,2001,1))\r\n",
        "model.compile(optimizer='adam',\r\n",
        "              loss='categorical_crossentropy', # Loss\r\n",
        "              metrics='accuracy')\r\n"
      ],
      "execution_count": null,
      "outputs": []
    },
    {
      "cell_type": "code",
      "metadata": {
        "colab": {
          "base_uri": "https://localhost:8080/",
          "height": 578
        },
        "id": "I6Iz59CncGsQ",
        "outputId": "0cd7cc18-7b5b-42dc-d0b4-771e2ec3f128"
      },
      "source": [
        "X = X.reshape((X.shape[0],513,2001,1))\r\n",
        "#X_test = X_test.reshape(X_test.shape[0],513,401,1)\r\n",
        "history = model.fit(X_train,y_train,epochs=10,batch_size=8,shuffle=True,validation_data=(X_test,y_test))"
      ],
      "execution_count": null,
      "outputs": [
        {
          "output_type": "stream",
          "text": [
            "Epoch 1/10\n",
            "1/1 [==============================] - 1s 948ms/step - loss: 2.4800 - accuracy: 0.2000 - val_loss: 2.3596 - val_accuracy: 0.0000e+00\n",
            "Epoch 2/10\n",
            "1/1 [==============================] - 0s 326ms/step - loss: 2.3698 - accuracy: 0.0000e+00 - val_loss: 2.2985 - val_accuracy: 0.2000\n",
            "Epoch 3/10\n",
            "1/1 [==============================] - 0s 303ms/step - loss: 1.9427 - accuracy: 0.4000 - val_loss: 2.2581 - val_accuracy: 0.4000\n",
            "Epoch 4/10\n",
            "1/1 [==============================] - 0s 311ms/step - loss: 1.7106 - accuracy: 0.8000 - val_loss: 2.2330 - val_accuracy: 0.4000\n",
            "Epoch 5/10\n",
            "1/1 [==============================] - 0s 323ms/step - loss: 1.2541 - accuracy: 0.8000 - val_loss: 2.2240 - val_accuracy: 0.4000\n",
            "Epoch 6/10\n",
            "1/1 [==============================] - 0s 280ms/step - loss: 1.2509 - accuracy: 0.8000 - val_loss: 2.2262 - val_accuracy: 0.4000\n",
            "Epoch 7/10\n"
          ],
          "name": "stdout"
        },
        {
          "output_type": "error",
          "ename": "KeyboardInterrupt",
          "evalue": "ignored",
          "traceback": [
            "\u001b[0;31m---------------------------------------------------------------------------\u001b[0m",
            "\u001b[0;31mKeyboardInterrupt\u001b[0m                         Traceback (most recent call last)",
            "\u001b[0;32m<ipython-input-30-877cbc1cf8eb>\u001b[0m in \u001b[0;36m<module>\u001b[0;34m()\u001b[0m\n\u001b[1;32m      1\u001b[0m \u001b[0mX\u001b[0m \u001b[0;34m=\u001b[0m \u001b[0mX\u001b[0m\u001b[0;34m.\u001b[0m\u001b[0mreshape\u001b[0m\u001b[0;34m(\u001b[0m\u001b[0;34m(\u001b[0m\u001b[0mX\u001b[0m\u001b[0;34m.\u001b[0m\u001b[0mshape\u001b[0m\u001b[0;34m[\u001b[0m\u001b[0;36m0\u001b[0m\u001b[0;34m]\u001b[0m\u001b[0;34m,\u001b[0m\u001b[0;36m513\u001b[0m\u001b[0;34m,\u001b[0m\u001b[0;36m2001\u001b[0m\u001b[0;34m,\u001b[0m\u001b[0;36m1\u001b[0m\u001b[0;34m)\u001b[0m\u001b[0;34m)\u001b[0m\u001b[0;34m\u001b[0m\u001b[0;34m\u001b[0m\u001b[0m\n\u001b[1;32m      2\u001b[0m \u001b[0;31m#X_test = X_test.reshape(X_test.shape[0],513,401,1)\u001b[0m\u001b[0;34m\u001b[0m\u001b[0;34m\u001b[0m\u001b[0;34m\u001b[0m\u001b[0m\n\u001b[0;32m----> 3\u001b[0;31m \u001b[0mhistory\u001b[0m \u001b[0;34m=\u001b[0m \u001b[0mmodel\u001b[0m\u001b[0;34m.\u001b[0m\u001b[0mfit\u001b[0m\u001b[0;34m(\u001b[0m\u001b[0mX_train\u001b[0m\u001b[0;34m,\u001b[0m\u001b[0my_train\u001b[0m\u001b[0;34m,\u001b[0m\u001b[0mepochs\u001b[0m\u001b[0;34m=\u001b[0m\u001b[0;36m10\u001b[0m\u001b[0;34m,\u001b[0m\u001b[0mbatch_size\u001b[0m\u001b[0;34m=\u001b[0m\u001b[0;36m8\u001b[0m\u001b[0;34m,\u001b[0m\u001b[0mshuffle\u001b[0m\u001b[0;34m=\u001b[0m\u001b[0;32mTrue\u001b[0m\u001b[0;34m,\u001b[0m\u001b[0mvalidation_data\u001b[0m\u001b[0;34m=\u001b[0m\u001b[0;34m(\u001b[0m\u001b[0mX_test\u001b[0m\u001b[0;34m,\u001b[0m\u001b[0my_test\u001b[0m\u001b[0;34m)\u001b[0m\u001b[0;34m)\u001b[0m\u001b[0;34m\u001b[0m\u001b[0;34m\u001b[0m\u001b[0m\n\u001b[0m",
            "\u001b[0;32m/usr/local/lib/python3.6/dist-packages/tensorflow/python/keras/engine/training.py\u001b[0m in \u001b[0;36m_method_wrapper\u001b[0;34m(self, *args, **kwargs)\u001b[0m\n\u001b[1;32m    106\u001b[0m   \u001b[0;32mdef\u001b[0m \u001b[0m_method_wrapper\u001b[0m\u001b[0;34m(\u001b[0m\u001b[0mself\u001b[0m\u001b[0;34m,\u001b[0m \u001b[0;34m*\u001b[0m\u001b[0margs\u001b[0m\u001b[0;34m,\u001b[0m \u001b[0;34m**\u001b[0m\u001b[0mkwargs\u001b[0m\u001b[0;34m)\u001b[0m\u001b[0;34m:\u001b[0m\u001b[0;34m\u001b[0m\u001b[0;34m\u001b[0m\u001b[0m\n\u001b[1;32m    107\u001b[0m     \u001b[0;32mif\u001b[0m \u001b[0;32mnot\u001b[0m \u001b[0mself\u001b[0m\u001b[0;34m.\u001b[0m\u001b[0m_in_multi_worker_mode\u001b[0m\u001b[0;34m(\u001b[0m\u001b[0;34m)\u001b[0m\u001b[0;34m:\u001b[0m  \u001b[0;31m# pylint: disable=protected-access\u001b[0m\u001b[0;34m\u001b[0m\u001b[0;34m\u001b[0m\u001b[0m\n\u001b[0;32m--> 108\u001b[0;31m       \u001b[0;32mreturn\u001b[0m \u001b[0mmethod\u001b[0m\u001b[0;34m(\u001b[0m\u001b[0mself\u001b[0m\u001b[0;34m,\u001b[0m \u001b[0;34m*\u001b[0m\u001b[0margs\u001b[0m\u001b[0;34m,\u001b[0m \u001b[0;34m**\u001b[0m\u001b[0mkwargs\u001b[0m\u001b[0;34m)\u001b[0m\u001b[0;34m\u001b[0m\u001b[0;34m\u001b[0m\u001b[0m\n\u001b[0m\u001b[1;32m    109\u001b[0m \u001b[0;34m\u001b[0m\u001b[0m\n\u001b[1;32m    110\u001b[0m     \u001b[0;31m# Running inside `run_distribute_coordinator` already.\u001b[0m\u001b[0;34m\u001b[0m\u001b[0;34m\u001b[0m\u001b[0;34m\u001b[0m\u001b[0m\n",
            "\u001b[0;32m/usr/local/lib/python3.6/dist-packages/tensorflow/python/keras/engine/training.py\u001b[0m in \u001b[0;36mfit\u001b[0;34m(self, x, y, batch_size, epochs, verbose, callbacks, validation_split, validation_data, shuffle, class_weight, sample_weight, initial_epoch, steps_per_epoch, validation_steps, validation_batch_size, validation_freq, max_queue_size, workers, use_multiprocessing)\u001b[0m\n\u001b[1;32m   1096\u001b[0m                 batch_size=batch_size):\n\u001b[1;32m   1097\u001b[0m               \u001b[0mcallbacks\u001b[0m\u001b[0;34m.\u001b[0m\u001b[0mon_train_batch_begin\u001b[0m\u001b[0;34m(\u001b[0m\u001b[0mstep\u001b[0m\u001b[0;34m)\u001b[0m\u001b[0;34m\u001b[0m\u001b[0;34m\u001b[0m\u001b[0m\n\u001b[0;32m-> 1098\u001b[0;31m               \u001b[0mtmp_logs\u001b[0m \u001b[0;34m=\u001b[0m \u001b[0mtrain_function\u001b[0m\u001b[0;34m(\u001b[0m\u001b[0miterator\u001b[0m\u001b[0;34m)\u001b[0m\u001b[0;34m\u001b[0m\u001b[0;34m\u001b[0m\u001b[0m\n\u001b[0m\u001b[1;32m   1099\u001b[0m               \u001b[0;32mif\u001b[0m \u001b[0mdata_handler\u001b[0m\u001b[0;34m.\u001b[0m\u001b[0mshould_sync\u001b[0m\u001b[0;34m:\u001b[0m\u001b[0;34m\u001b[0m\u001b[0;34m\u001b[0m\u001b[0m\n\u001b[1;32m   1100\u001b[0m                 \u001b[0mcontext\u001b[0m\u001b[0;34m.\u001b[0m\u001b[0masync_wait\u001b[0m\u001b[0;34m(\u001b[0m\u001b[0;34m)\u001b[0m\u001b[0;34m\u001b[0m\u001b[0;34m\u001b[0m\u001b[0m\n",
            "\u001b[0;32m/usr/local/lib/python3.6/dist-packages/tensorflow/python/eager/def_function.py\u001b[0m in \u001b[0;36m__call__\u001b[0;34m(self, *args, **kwds)\u001b[0m\n\u001b[1;32m    778\u001b[0m       \u001b[0;32melse\u001b[0m\u001b[0;34m:\u001b[0m\u001b[0;34m\u001b[0m\u001b[0;34m\u001b[0m\u001b[0m\n\u001b[1;32m    779\u001b[0m         \u001b[0mcompiler\u001b[0m \u001b[0;34m=\u001b[0m \u001b[0;34m\"nonXla\"\u001b[0m\u001b[0;34m\u001b[0m\u001b[0;34m\u001b[0m\u001b[0m\n\u001b[0;32m--> 780\u001b[0;31m         \u001b[0mresult\u001b[0m \u001b[0;34m=\u001b[0m \u001b[0mself\u001b[0m\u001b[0;34m.\u001b[0m\u001b[0m_call\u001b[0m\u001b[0;34m(\u001b[0m\u001b[0;34m*\u001b[0m\u001b[0margs\u001b[0m\u001b[0;34m,\u001b[0m \u001b[0;34m**\u001b[0m\u001b[0mkwds\u001b[0m\u001b[0;34m)\u001b[0m\u001b[0;34m\u001b[0m\u001b[0;34m\u001b[0m\u001b[0m\n\u001b[0m\u001b[1;32m    781\u001b[0m \u001b[0;34m\u001b[0m\u001b[0m\n\u001b[1;32m    782\u001b[0m       \u001b[0mnew_tracing_count\u001b[0m \u001b[0;34m=\u001b[0m \u001b[0mself\u001b[0m\u001b[0;34m.\u001b[0m\u001b[0m_get_tracing_count\u001b[0m\u001b[0;34m(\u001b[0m\u001b[0;34m)\u001b[0m\u001b[0;34m\u001b[0m\u001b[0;34m\u001b[0m\u001b[0m\n",
            "\u001b[0;32m/usr/local/lib/python3.6/dist-packages/tensorflow/python/eager/def_function.py\u001b[0m in \u001b[0;36m_call\u001b[0;34m(self, *args, **kwds)\u001b[0m\n\u001b[1;32m    805\u001b[0m       \u001b[0;31m# In this case we have created variables on the first call, so we run the\u001b[0m\u001b[0;34m\u001b[0m\u001b[0;34m\u001b[0m\u001b[0;34m\u001b[0m\u001b[0m\n\u001b[1;32m    806\u001b[0m       \u001b[0;31m# defunned version which is guaranteed to never create variables.\u001b[0m\u001b[0;34m\u001b[0m\u001b[0;34m\u001b[0m\u001b[0;34m\u001b[0m\u001b[0m\n\u001b[0;32m--> 807\u001b[0;31m       \u001b[0;32mreturn\u001b[0m \u001b[0mself\u001b[0m\u001b[0;34m.\u001b[0m\u001b[0m_stateless_fn\u001b[0m\u001b[0;34m(\u001b[0m\u001b[0;34m*\u001b[0m\u001b[0margs\u001b[0m\u001b[0;34m,\u001b[0m \u001b[0;34m**\u001b[0m\u001b[0mkwds\u001b[0m\u001b[0;34m)\u001b[0m  \u001b[0;31m# pylint: disable=not-callable\u001b[0m\u001b[0;34m\u001b[0m\u001b[0;34m\u001b[0m\u001b[0m\n\u001b[0m\u001b[1;32m    808\u001b[0m     \u001b[0;32melif\u001b[0m \u001b[0mself\u001b[0m\u001b[0;34m.\u001b[0m\u001b[0m_stateful_fn\u001b[0m \u001b[0;32mis\u001b[0m \u001b[0;32mnot\u001b[0m \u001b[0;32mNone\u001b[0m\u001b[0;34m:\u001b[0m\u001b[0;34m\u001b[0m\u001b[0;34m\u001b[0m\u001b[0m\n\u001b[1;32m    809\u001b[0m       \u001b[0;31m# Release the lock early so that multiple threads can perform the call\u001b[0m\u001b[0;34m\u001b[0m\u001b[0;34m\u001b[0m\u001b[0;34m\u001b[0m\u001b[0m\n",
            "\u001b[0;32m/usr/local/lib/python3.6/dist-packages/tensorflow/python/eager/function.py\u001b[0m in \u001b[0;36m__call__\u001b[0;34m(self, *args, **kwargs)\u001b[0m\n\u001b[1;32m   2827\u001b[0m     \u001b[0;32mwith\u001b[0m \u001b[0mself\u001b[0m\u001b[0;34m.\u001b[0m\u001b[0m_lock\u001b[0m\u001b[0;34m:\u001b[0m\u001b[0;34m\u001b[0m\u001b[0;34m\u001b[0m\u001b[0m\n\u001b[1;32m   2828\u001b[0m       \u001b[0mgraph_function\u001b[0m\u001b[0;34m,\u001b[0m \u001b[0margs\u001b[0m\u001b[0;34m,\u001b[0m \u001b[0mkwargs\u001b[0m \u001b[0;34m=\u001b[0m \u001b[0mself\u001b[0m\u001b[0;34m.\u001b[0m\u001b[0m_maybe_define_function\u001b[0m\u001b[0;34m(\u001b[0m\u001b[0margs\u001b[0m\u001b[0;34m,\u001b[0m \u001b[0mkwargs\u001b[0m\u001b[0;34m)\u001b[0m\u001b[0;34m\u001b[0m\u001b[0;34m\u001b[0m\u001b[0m\n\u001b[0;32m-> 2829\u001b[0;31m     \u001b[0;32mreturn\u001b[0m \u001b[0mgraph_function\u001b[0m\u001b[0;34m.\u001b[0m\u001b[0m_filtered_call\u001b[0m\u001b[0;34m(\u001b[0m\u001b[0margs\u001b[0m\u001b[0;34m,\u001b[0m \u001b[0mkwargs\u001b[0m\u001b[0;34m)\u001b[0m  \u001b[0;31m# pylint: disable=protected-access\u001b[0m\u001b[0;34m\u001b[0m\u001b[0;34m\u001b[0m\u001b[0m\n\u001b[0m\u001b[1;32m   2830\u001b[0m \u001b[0;34m\u001b[0m\u001b[0m\n\u001b[1;32m   2831\u001b[0m   \u001b[0;34m@\u001b[0m\u001b[0mproperty\u001b[0m\u001b[0;34m\u001b[0m\u001b[0;34m\u001b[0m\u001b[0m\n",
            "\u001b[0;32m/usr/local/lib/python3.6/dist-packages/tensorflow/python/eager/function.py\u001b[0m in \u001b[0;36m_filtered_call\u001b[0;34m(self, args, kwargs, cancellation_manager)\u001b[0m\n\u001b[1;32m   1846\u001b[0m                            resource_variable_ops.BaseResourceVariable))],\n\u001b[1;32m   1847\u001b[0m         \u001b[0mcaptured_inputs\u001b[0m\u001b[0;34m=\u001b[0m\u001b[0mself\u001b[0m\u001b[0;34m.\u001b[0m\u001b[0mcaptured_inputs\u001b[0m\u001b[0;34m,\u001b[0m\u001b[0;34m\u001b[0m\u001b[0;34m\u001b[0m\u001b[0m\n\u001b[0;32m-> 1848\u001b[0;31m         cancellation_manager=cancellation_manager)\n\u001b[0m\u001b[1;32m   1849\u001b[0m \u001b[0;34m\u001b[0m\u001b[0m\n\u001b[1;32m   1850\u001b[0m   \u001b[0;32mdef\u001b[0m \u001b[0m_call_flat\u001b[0m\u001b[0;34m(\u001b[0m\u001b[0mself\u001b[0m\u001b[0;34m,\u001b[0m \u001b[0margs\u001b[0m\u001b[0;34m,\u001b[0m \u001b[0mcaptured_inputs\u001b[0m\u001b[0;34m,\u001b[0m \u001b[0mcancellation_manager\u001b[0m\u001b[0;34m=\u001b[0m\u001b[0;32mNone\u001b[0m\u001b[0;34m)\u001b[0m\u001b[0;34m:\u001b[0m\u001b[0;34m\u001b[0m\u001b[0;34m\u001b[0m\u001b[0m\n",
            "\u001b[0;32m/usr/local/lib/python3.6/dist-packages/tensorflow/python/eager/function.py\u001b[0m in \u001b[0;36m_call_flat\u001b[0;34m(self, args, captured_inputs, cancellation_manager)\u001b[0m\n\u001b[1;32m   1922\u001b[0m       \u001b[0;31m# No tape is watching; skip to running the function.\u001b[0m\u001b[0;34m\u001b[0m\u001b[0;34m\u001b[0m\u001b[0;34m\u001b[0m\u001b[0m\n\u001b[1;32m   1923\u001b[0m       return self._build_call_outputs(self._inference_function.call(\n\u001b[0;32m-> 1924\u001b[0;31m           ctx, args, cancellation_manager=cancellation_manager))\n\u001b[0m\u001b[1;32m   1925\u001b[0m     forward_backward = self._select_forward_and_backward_functions(\n\u001b[1;32m   1926\u001b[0m         \u001b[0margs\u001b[0m\u001b[0;34m,\u001b[0m\u001b[0;34m\u001b[0m\u001b[0;34m\u001b[0m\u001b[0m\n",
            "\u001b[0;32m/usr/local/lib/python3.6/dist-packages/tensorflow/python/eager/function.py\u001b[0m in \u001b[0;36mcall\u001b[0;34m(self, ctx, args, cancellation_manager)\u001b[0m\n\u001b[1;32m    548\u001b[0m               \u001b[0minputs\u001b[0m\u001b[0;34m=\u001b[0m\u001b[0margs\u001b[0m\u001b[0;34m,\u001b[0m\u001b[0;34m\u001b[0m\u001b[0;34m\u001b[0m\u001b[0m\n\u001b[1;32m    549\u001b[0m               \u001b[0mattrs\u001b[0m\u001b[0;34m=\u001b[0m\u001b[0mattrs\u001b[0m\u001b[0;34m,\u001b[0m\u001b[0;34m\u001b[0m\u001b[0;34m\u001b[0m\u001b[0m\n\u001b[0;32m--> 550\u001b[0;31m               ctx=ctx)\n\u001b[0m\u001b[1;32m    551\u001b[0m         \u001b[0;32melse\u001b[0m\u001b[0;34m:\u001b[0m\u001b[0;34m\u001b[0m\u001b[0;34m\u001b[0m\u001b[0m\n\u001b[1;32m    552\u001b[0m           outputs = execute.execute_with_cancellation(\n",
            "\u001b[0;32m/usr/local/lib/python3.6/dist-packages/tensorflow/python/eager/execute.py\u001b[0m in \u001b[0;36mquick_execute\u001b[0;34m(op_name, num_outputs, inputs, attrs, ctx, name)\u001b[0m\n\u001b[1;32m     58\u001b[0m     \u001b[0mctx\u001b[0m\u001b[0;34m.\u001b[0m\u001b[0mensure_initialized\u001b[0m\u001b[0;34m(\u001b[0m\u001b[0;34m)\u001b[0m\u001b[0;34m\u001b[0m\u001b[0;34m\u001b[0m\u001b[0m\n\u001b[1;32m     59\u001b[0m     tensors = pywrap_tfe.TFE_Py_Execute(ctx._handle, device_name, op_name,\n\u001b[0;32m---> 60\u001b[0;31m                                         inputs, attrs, num_outputs)\n\u001b[0m\u001b[1;32m     61\u001b[0m   \u001b[0;32mexcept\u001b[0m \u001b[0mcore\u001b[0m\u001b[0;34m.\u001b[0m\u001b[0m_NotOkStatusException\u001b[0m \u001b[0;32mas\u001b[0m \u001b[0me\u001b[0m\u001b[0;34m:\u001b[0m\u001b[0;34m\u001b[0m\u001b[0;34m\u001b[0m\u001b[0m\n\u001b[1;32m     62\u001b[0m     \u001b[0;32mif\u001b[0m \u001b[0mname\u001b[0m \u001b[0;32mis\u001b[0m \u001b[0;32mnot\u001b[0m \u001b[0;32mNone\u001b[0m\u001b[0;34m:\u001b[0m\u001b[0;34m\u001b[0m\u001b[0;34m\u001b[0m\u001b[0m\n",
            "\u001b[0;31mKeyboardInterrupt\u001b[0m: "
          ]
        }
      ]
    },
    {
      "cell_type": "code",
      "metadata": {
        "id": "HO69s7iucvan",
        "colab": {
          "base_uri": "https://localhost:8080/"
        },
        "outputId": "5b53c4d7-9e3b-4712-e652-c0fe0c1575b4"
      },
      "source": [
        "model.summary()"
      ],
      "execution_count": null,
      "outputs": [
        {
          "output_type": "stream",
          "text": [
            "Model: \"Model\"\n",
            "_________________________________________________________________\n",
            "Layer (type)                 Output Shape              Param #   \n",
            "=================================================================\n",
            "input_1 (InputLayer)         [(None, 513, 2001, 1)]    0         \n",
            "_________________________________________________________________\n",
            "conv2d (Conv2D)              (None, 513, 2001, 8)      208       \n",
            "_________________________________________________________________\n",
            "batch_normalization (BatchNo (None, 513, 2001, 8)      32        \n",
            "_________________________________________________________________\n",
            "activation (Activation)      (None, 513, 2001, 8)      0         \n",
            "_________________________________________________________________\n",
            "max_pooling2d (MaxPooling2D) (None, 256, 500, 8)       0         \n",
            "_________________________________________________________________\n",
            "conv2d_1 (Conv2D)            (None, 256, 500, 16)      1168      \n",
            "_________________________________________________________________\n",
            "batch_normalization_1 (Batch (None, 256, 500, 16)      64        \n",
            "_________________________________________________________________\n",
            "activation_1 (Activation)    (None, 256, 500, 16)      0         \n",
            "_________________________________________________________________\n",
            "max_pooling2d_1 (MaxPooling2 (None, 64, 125, 16)       0         \n",
            "_________________________________________________________________\n",
            "dropout (Dropout)            (None, 64, 125, 16)       0         \n",
            "_________________________________________________________________\n",
            "permute (Permute)            (None, 64, 16, 125)       0         \n",
            "_________________________________________________________________\n",
            "tf_op_layer_Mean (TensorFlow [(None, 16, 125)]         0         \n",
            "_________________________________________________________________\n",
            "reshape (Reshape)            (None, 5, 400)            0         \n",
            "_________________________________________________________________\n",
            "gru (GRU)                    (None, 5, 32)             41664     \n",
            "_________________________________________________________________\n",
            "time_distributed (TimeDistri (None, 5, 32)             1056      \n",
            "_________________________________________________________________\n",
            "time_distributed_1 (TimeDist (None, 5, 10)             330       \n",
            "_________________________________________________________________\n",
            "Output_Activation (Activatio (None, 5, 10)             0         \n",
            "=================================================================\n",
            "Total params: 44,522\n",
            "Trainable params: 44,474\n",
            "Non-trainable params: 48\n",
            "_________________________________________________________________\n"
          ],
          "name": "stdout"
        }
      ]
    },
    {
      "cell_type": "code",
      "metadata": {
        "colab": {
          "base_uri": "https://localhost:8080/"
        },
        "id": "uEZOn3-6vLFO",
        "outputId": "87e9eb6f-f0ca-4530-8442-8699aaa4fd46"
      },
      "source": [
        "np.argmax(model.predict(X[:6]),axis = -1)"
      ],
      "execution_count": null,
      "outputs": [
        {
          "output_type": "execute_result",
          "data": {
            "text/plain": [
              "array([[ 8,  0,  8, 10, 10],\n",
              "       [ 9,  5,  8, 10, 10],\n",
              "       [ 5,  5,  4,  9, 10],\n",
              "       [ 7,  3,  5, 10, 10],\n",
              "       [ 2,  2,  0, 10, 10],\n",
              "       [ 2,  3,  5, 10, 10]])"
            ]
          },
          "metadata": {
            "tags": []
          },
          "execution_count": 11
        }
      ]
    },
    {
      "cell_type": "code",
      "metadata": {
        "colab": {
          "base_uri": "https://localhost:8080/"
        },
        "id": "ON3CbzJNDUQM",
        "outputId": "14d62432-2907-44c6-f8a7-5933d3233677"
      },
      "source": [
        "np.argmax(y[:6],axis = -1)"
      ],
      "execution_count": null,
      "outputs": [
        {
          "output_type": "execute_result",
          "data": {
            "text/plain": [
              "array([[ 8,  0,  5, 10, 10],\n",
              "       [ 9,  8,  7, 10, 10],\n",
              "       [ 5,  9,  2,  9,  7],\n",
              "       [ 7,  3,  5, 10, 10],\n",
              "       [ 1,  7,  8, 10, 10],\n",
              "       [ 4,  3,  2, 10, 10]])"
            ]
          },
          "metadata": {
            "tags": []
          },
          "execution_count": 13
        }
      ]
    },
    {
      "cell_type": "code",
      "metadata": {
        "id": "vVut8-jEDlFE"
      },
      "source": [
        "model.save(\"/content/drive/MyDrive/mlsp.h5\")"
      ],
      "execution_count": null,
      "outputs": []
    },
    {
      "cell_type": "code",
      "metadata": {
        "id": "rRIdTC5fKX0U"
      },
      "source": [
        ""
      ],
      "execution_count": null,
      "outputs": []
    }
  ]
}